{
 "cells": [
  {
   "cell_type": "code",
   "execution_count": 18,
   "metadata": {},
   "outputs": [],
   "source": [
    "import pandas as pd\n",
    "import numpy as np\n",
    "import warnings\n",
    "\n",
    "# Suppress warnings\n",
    "warnings.filterwarnings(\"ignore\")"
   ]
  },
  {
   "cell_type": "markdown",
   "metadata": {},
   "source": [
    "# Read the CSV and Perform Basic Data Cleaning"
   ]
  },
  {
   "cell_type": "code",
   "execution_count": 19,
   "metadata": {},
   "outputs": [
    {
     "data": {
      "text/html": [
       "<div>\n",
       "<style scoped>\n",
       "    .dataframe tbody tr th:only-of-type {\n",
       "        vertical-align: middle;\n",
       "    }\n",
       "\n",
       "    .dataframe tbody tr th {\n",
       "        vertical-align: top;\n",
       "    }\n",
       "\n",
       "    .dataframe thead th {\n",
       "        text-align: right;\n",
       "    }\n",
       "</style>\n",
       "<table border=\"1\" class=\"dataframe\">\n",
       "  <thead>\n",
       "    <tr style=\"text-align: right;\">\n",
       "      <th></th>\n",
       "      <th>koi_disposition</th>\n",
       "      <th>koi_fpflag_nt</th>\n",
       "      <th>koi_fpflag_ss</th>\n",
       "      <th>koi_fpflag_co</th>\n",
       "      <th>koi_fpflag_ec</th>\n",
       "      <th>koi_period</th>\n",
       "      <th>koi_period_err1</th>\n",
       "      <th>koi_period_err2</th>\n",
       "      <th>koi_time0bk</th>\n",
       "      <th>koi_time0bk_err1</th>\n",
       "      <th>...</th>\n",
       "      <th>koi_steff_err2</th>\n",
       "      <th>koi_slogg</th>\n",
       "      <th>koi_slogg_err1</th>\n",
       "      <th>koi_slogg_err2</th>\n",
       "      <th>koi_srad</th>\n",
       "      <th>koi_srad_err1</th>\n",
       "      <th>koi_srad_err2</th>\n",
       "      <th>ra</th>\n",
       "      <th>dec</th>\n",
       "      <th>koi_kepmag</th>\n",
       "    </tr>\n",
       "  </thead>\n",
       "  <tbody>\n",
       "    <tr>\n",
       "      <th>0</th>\n",
       "      <td>CONFIRMED</td>\n",
       "      <td>0</td>\n",
       "      <td>0</td>\n",
       "      <td>0</td>\n",
       "      <td>0</td>\n",
       "      <td>9.488036</td>\n",
       "      <td>2.775000e-05</td>\n",
       "      <td>-2.775000e-05</td>\n",
       "      <td>170.538750</td>\n",
       "      <td>0.002160</td>\n",
       "      <td>...</td>\n",
       "      <td>-81.0</td>\n",
       "      <td>4.467</td>\n",
       "      <td>0.064</td>\n",
       "      <td>-0.096</td>\n",
       "      <td>0.927</td>\n",
       "      <td>0.105</td>\n",
       "      <td>-0.061</td>\n",
       "      <td>291.93423</td>\n",
       "      <td>48.141651</td>\n",
       "      <td>15.347</td>\n",
       "    </tr>\n",
       "    <tr>\n",
       "      <th>1</th>\n",
       "      <td>CONFIRMED</td>\n",
       "      <td>0</td>\n",
       "      <td>0</td>\n",
       "      <td>0</td>\n",
       "      <td>0</td>\n",
       "      <td>54.418383</td>\n",
       "      <td>2.479000e-04</td>\n",
       "      <td>-2.479000e-04</td>\n",
       "      <td>162.513840</td>\n",
       "      <td>0.003520</td>\n",
       "      <td>...</td>\n",
       "      <td>-81.0</td>\n",
       "      <td>4.467</td>\n",
       "      <td>0.064</td>\n",
       "      <td>-0.096</td>\n",
       "      <td>0.927</td>\n",
       "      <td>0.105</td>\n",
       "      <td>-0.061</td>\n",
       "      <td>291.93423</td>\n",
       "      <td>48.141651</td>\n",
       "      <td>15.347</td>\n",
       "    </tr>\n",
       "    <tr>\n",
       "      <th>2</th>\n",
       "      <td>FALSE POSITIVE</td>\n",
       "      <td>0</td>\n",
       "      <td>1</td>\n",
       "      <td>0</td>\n",
       "      <td>0</td>\n",
       "      <td>19.899140</td>\n",
       "      <td>1.494000e-05</td>\n",
       "      <td>-1.494000e-05</td>\n",
       "      <td>175.850252</td>\n",
       "      <td>0.000581</td>\n",
       "      <td>...</td>\n",
       "      <td>-176.0</td>\n",
       "      <td>4.544</td>\n",
       "      <td>0.044</td>\n",
       "      <td>-0.176</td>\n",
       "      <td>0.868</td>\n",
       "      <td>0.233</td>\n",
       "      <td>-0.078</td>\n",
       "      <td>297.00482</td>\n",
       "      <td>48.134129</td>\n",
       "      <td>15.436</td>\n",
       "    </tr>\n",
       "    <tr>\n",
       "      <th>3</th>\n",
       "      <td>FALSE POSITIVE</td>\n",
       "      <td>0</td>\n",
       "      <td>1</td>\n",
       "      <td>0</td>\n",
       "      <td>0</td>\n",
       "      <td>1.736952</td>\n",
       "      <td>2.630000e-07</td>\n",
       "      <td>-2.630000e-07</td>\n",
       "      <td>170.307565</td>\n",
       "      <td>0.000115</td>\n",
       "      <td>...</td>\n",
       "      <td>-174.0</td>\n",
       "      <td>4.564</td>\n",
       "      <td>0.053</td>\n",
       "      <td>-0.168</td>\n",
       "      <td>0.791</td>\n",
       "      <td>0.201</td>\n",
       "      <td>-0.067</td>\n",
       "      <td>285.53461</td>\n",
       "      <td>48.285210</td>\n",
       "      <td>15.597</td>\n",
       "    </tr>\n",
       "    <tr>\n",
       "      <th>4</th>\n",
       "      <td>CONFIRMED</td>\n",
       "      <td>0</td>\n",
       "      <td>0</td>\n",
       "      <td>0</td>\n",
       "      <td>0</td>\n",
       "      <td>2.525592</td>\n",
       "      <td>3.761000e-06</td>\n",
       "      <td>-3.761000e-06</td>\n",
       "      <td>171.595550</td>\n",
       "      <td>0.001130</td>\n",
       "      <td>...</td>\n",
       "      <td>-211.0</td>\n",
       "      <td>4.438</td>\n",
       "      <td>0.070</td>\n",
       "      <td>-0.210</td>\n",
       "      <td>1.046</td>\n",
       "      <td>0.334</td>\n",
       "      <td>-0.133</td>\n",
       "      <td>288.75488</td>\n",
       "      <td>48.226200</td>\n",
       "      <td>15.509</td>\n",
       "    </tr>\n",
       "  </tbody>\n",
       "</table>\n",
       "<p>5 rows × 41 columns</p>\n",
       "</div>"
      ],
      "text/plain": [
       "  koi_disposition  koi_fpflag_nt  koi_fpflag_ss  koi_fpflag_co  koi_fpflag_ec  \\\n",
       "0       CONFIRMED              0              0              0              0   \n",
       "1       CONFIRMED              0              0              0              0   \n",
       "2  FALSE POSITIVE              0              1              0              0   \n",
       "3  FALSE POSITIVE              0              1              0              0   \n",
       "4       CONFIRMED              0              0              0              0   \n",
       "\n",
       "   koi_period  koi_period_err1  koi_period_err2  koi_time0bk  \\\n",
       "0    9.488036     2.775000e-05    -2.775000e-05   170.538750   \n",
       "1   54.418383     2.479000e-04    -2.479000e-04   162.513840   \n",
       "2   19.899140     1.494000e-05    -1.494000e-05   175.850252   \n",
       "3    1.736952     2.630000e-07    -2.630000e-07   170.307565   \n",
       "4    2.525592     3.761000e-06    -3.761000e-06   171.595550   \n",
       "\n",
       "   koi_time0bk_err1     ...      koi_steff_err2  koi_slogg  koi_slogg_err1  \\\n",
       "0          0.002160     ...               -81.0      4.467           0.064   \n",
       "1          0.003520     ...               -81.0      4.467           0.064   \n",
       "2          0.000581     ...              -176.0      4.544           0.044   \n",
       "3          0.000115     ...              -174.0      4.564           0.053   \n",
       "4          0.001130     ...              -211.0      4.438           0.070   \n",
       "\n",
       "   koi_slogg_err2  koi_srad  koi_srad_err1  koi_srad_err2         ra  \\\n",
       "0          -0.096     0.927          0.105         -0.061  291.93423   \n",
       "1          -0.096     0.927          0.105         -0.061  291.93423   \n",
       "2          -0.176     0.868          0.233         -0.078  297.00482   \n",
       "3          -0.168     0.791          0.201         -0.067  285.53461   \n",
       "4          -0.210     1.046          0.334         -0.133  288.75488   \n",
       "\n",
       "         dec  koi_kepmag  \n",
       "0  48.141651      15.347  \n",
       "1  48.141651      15.347  \n",
       "2  48.134129      15.436  \n",
       "3  48.285210      15.597  \n",
       "4  48.226200      15.509  \n",
       "\n",
       "[5 rows x 41 columns]"
      ]
     },
     "execution_count": 19,
     "metadata": {},
     "output_type": "execute_result"
    }
   ],
   "source": [
    "df = pd.read_csv(\"cumulative.csv\")\n",
    "df = df.drop(columns=[\"rowid\", \"kepid\", \"kepoi_name\", \"kepler_name\", \"koi_pdisposition\", \"koi_score\", \"koi_tce_delivname\"])\n",
    "# Drop the null columns where all values are null\n",
    "df = df.dropna(axis='columns', how='all')\n",
    "# Drop the null rows\n",
    "df = df.dropna()\n",
    "df.head()"
   ]
  },
  {
   "cell_type": "markdown",
   "metadata": {},
   "source": [
    "# Create a Train Test Split\n",
    "\n",
    "Use `koi_disposition` for the y values"
   ]
  },
  {
   "cell_type": "code",
   "execution_count": 20,
   "metadata": {},
   "outputs": [],
   "source": [
    "from sklearn.model_selection import train_test_split\n",
    "\n",
    "target = df[\"koi_disposition\"]\n",
    "data = df.drop(columns=['koi_disposition'])"
   ]
  },
  {
   "cell_type": "code",
   "execution_count": 21,
   "metadata": {},
   "outputs": [],
   "source": [
    "X_train, X_test, y_train, y_test = train_test_split(data, target, random_state=1, stratify=target)"
   ]
  },
  {
   "cell_type": "code",
   "execution_count": 22,
   "metadata": {},
   "outputs": [
    {
     "data": {
      "text/html": [
       "<div>\n",
       "<style scoped>\n",
       "    .dataframe tbody tr th:only-of-type {\n",
       "        vertical-align: middle;\n",
       "    }\n",
       "\n",
       "    .dataframe tbody tr th {\n",
       "        vertical-align: top;\n",
       "    }\n",
       "\n",
       "    .dataframe thead th {\n",
       "        text-align: right;\n",
       "    }\n",
       "</style>\n",
       "<table border=\"1\" class=\"dataframe\">\n",
       "  <thead>\n",
       "    <tr style=\"text-align: right;\">\n",
       "      <th></th>\n",
       "      <th>koi_fpflag_nt</th>\n",
       "      <th>koi_fpflag_ss</th>\n",
       "      <th>koi_fpflag_co</th>\n",
       "      <th>koi_fpflag_ec</th>\n",
       "      <th>koi_period</th>\n",
       "      <th>koi_period_err1</th>\n",
       "      <th>koi_period_err2</th>\n",
       "      <th>koi_time0bk</th>\n",
       "      <th>koi_time0bk_err1</th>\n",
       "      <th>koi_time0bk_err2</th>\n",
       "      <th>...</th>\n",
       "      <th>koi_steff_err2</th>\n",
       "      <th>koi_slogg</th>\n",
       "      <th>koi_slogg_err1</th>\n",
       "      <th>koi_slogg_err2</th>\n",
       "      <th>koi_srad</th>\n",
       "      <th>koi_srad_err1</th>\n",
       "      <th>koi_srad_err2</th>\n",
       "      <th>ra</th>\n",
       "      <th>dec</th>\n",
       "      <th>koi_kepmag</th>\n",
       "    </tr>\n",
       "  </thead>\n",
       "  <tbody>\n",
       "    <tr>\n",
       "      <th>5964</th>\n",
       "      <td>1</td>\n",
       "      <td>0</td>\n",
       "      <td>0</td>\n",
       "      <td>0</td>\n",
       "      <td>252.044440</td>\n",
       "      <td>0.027490</td>\n",
       "      <td>-0.027490</td>\n",
       "      <td>265.2010</td>\n",
       "      <td>0.0494</td>\n",
       "      <td>-0.0494</td>\n",
       "      <td>...</td>\n",
       "      <td>-136.0</td>\n",
       "      <td>4.621</td>\n",
       "      <td>0.041</td>\n",
       "      <td>-0.035</td>\n",
       "      <td>0.664</td>\n",
       "      <td>0.057</td>\n",
       "      <td>-0.059</td>\n",
       "      <td>292.79022</td>\n",
       "      <td>41.948639</td>\n",
       "      <td>15.884</td>\n",
       "    </tr>\n",
       "    <tr>\n",
       "      <th>9410</th>\n",
       "      <td>1</td>\n",
       "      <td>0</td>\n",
       "      <td>0</td>\n",
       "      <td>0</td>\n",
       "      <td>371.518520</td>\n",
       "      <td>0.015790</td>\n",
       "      <td>-0.015790</td>\n",
       "      <td>317.6836</td>\n",
       "      <td>0.0339</td>\n",
       "      <td>-0.0339</td>\n",
       "      <td>...</td>\n",
       "      <td>-206.0</td>\n",
       "      <td>4.377</td>\n",
       "      <td>0.101</td>\n",
       "      <td>-0.203</td>\n",
       "      <td>1.089</td>\n",
       "      <td>0.364</td>\n",
       "      <td>-0.145</td>\n",
       "      <td>293.06400</td>\n",
       "      <td>45.034210</td>\n",
       "      <td>13.731</td>\n",
       "    </tr>\n",
       "    <tr>\n",
       "      <th>4204</th>\n",
       "      <td>0</td>\n",
       "      <td>0</td>\n",
       "      <td>1</td>\n",
       "      <td>0</td>\n",
       "      <td>8.038670</td>\n",
       "      <td>0.000114</td>\n",
       "      <td>-0.000114</td>\n",
       "      <td>135.3098</td>\n",
       "      <td>0.0123</td>\n",
       "      <td>-0.0123</td>\n",
       "      <td>...</td>\n",
       "      <td>-181.0</td>\n",
       "      <td>4.485</td>\n",
       "      <td>0.050</td>\n",
       "      <td>-0.200</td>\n",
       "      <td>0.975</td>\n",
       "      <td>0.282</td>\n",
       "      <td>-0.101</td>\n",
       "      <td>290.51785</td>\n",
       "      <td>41.238762</td>\n",
       "      <td>14.999</td>\n",
       "    </tr>\n",
       "    <tr>\n",
       "      <th>5933</th>\n",
       "      <td>0</td>\n",
       "      <td>0</td>\n",
       "      <td>0</td>\n",
       "      <td>0</td>\n",
       "      <td>18.782160</td>\n",
       "      <td>0.000406</td>\n",
       "      <td>-0.000406</td>\n",
       "      <td>147.8508</td>\n",
       "      <td>0.0148</td>\n",
       "      <td>-0.0148</td>\n",
       "      <td>...</td>\n",
       "      <td>-167.0</td>\n",
       "      <td>4.488</td>\n",
       "      <td>0.048</td>\n",
       "      <td>-0.290</td>\n",
       "      <td>0.940</td>\n",
       "      <td>0.386</td>\n",
       "      <td>-0.087</td>\n",
       "      <td>291.76413</td>\n",
       "      <td>41.860130</td>\n",
       "      <td>14.043</td>\n",
       "    </tr>\n",
       "    <tr>\n",
       "      <th>6996</th>\n",
       "      <td>1</td>\n",
       "      <td>0</td>\n",
       "      <td>1</td>\n",
       "      <td>0</td>\n",
       "      <td>12.429716</td>\n",
       "      <td>0.000472</td>\n",
       "      <td>-0.000472</td>\n",
       "      <td>141.2846</td>\n",
       "      <td>0.0420</td>\n",
       "      <td>-0.0420</td>\n",
       "      <td>...</td>\n",
       "      <td>-200.0</td>\n",
       "      <td>4.534</td>\n",
       "      <td>0.037</td>\n",
       "      <td>-0.213</td>\n",
       "      <td>0.905</td>\n",
       "      <td>0.281</td>\n",
       "      <td>-0.088</td>\n",
       "      <td>297.52072</td>\n",
       "      <td>40.585419</td>\n",
       "      <td>15.842</td>\n",
       "    </tr>\n",
       "  </tbody>\n",
       "</table>\n",
       "<p>5 rows × 40 columns</p>\n",
       "</div>"
      ],
      "text/plain": [
       "      koi_fpflag_nt  koi_fpflag_ss  koi_fpflag_co  koi_fpflag_ec  koi_period  \\\n",
       "5964              1              0              0              0  252.044440   \n",
       "9410              1              0              0              0  371.518520   \n",
       "4204              0              0              1              0    8.038670   \n",
       "5933              0              0              0              0   18.782160   \n",
       "6996              1              0              1              0   12.429716   \n",
       "\n",
       "      koi_period_err1  koi_period_err2  koi_time0bk  koi_time0bk_err1  \\\n",
       "5964         0.027490        -0.027490     265.2010            0.0494   \n",
       "9410         0.015790        -0.015790     317.6836            0.0339   \n",
       "4204         0.000114        -0.000114     135.3098            0.0123   \n",
       "5933         0.000406        -0.000406     147.8508            0.0148   \n",
       "6996         0.000472        -0.000472     141.2846            0.0420   \n",
       "\n",
       "      koi_time0bk_err2     ...      koi_steff_err2  koi_slogg  koi_slogg_err1  \\\n",
       "5964           -0.0494     ...              -136.0      4.621           0.041   \n",
       "9410           -0.0339     ...              -206.0      4.377           0.101   \n",
       "4204           -0.0123     ...              -181.0      4.485           0.050   \n",
       "5933           -0.0148     ...              -167.0      4.488           0.048   \n",
       "6996           -0.0420     ...              -200.0      4.534           0.037   \n",
       "\n",
       "      koi_slogg_err2  koi_srad  koi_srad_err1  koi_srad_err2         ra  \\\n",
       "5964          -0.035     0.664          0.057         -0.059  292.79022   \n",
       "9410          -0.203     1.089          0.364         -0.145  293.06400   \n",
       "4204          -0.200     0.975          0.282         -0.101  290.51785   \n",
       "5933          -0.290     0.940          0.386         -0.087  291.76413   \n",
       "6996          -0.213     0.905          0.281         -0.088  297.52072   \n",
       "\n",
       "            dec  koi_kepmag  \n",
       "5964  41.948639      15.884  \n",
       "9410  45.034210      13.731  \n",
       "4204  41.238762      14.999  \n",
       "5933  41.860130      14.043  \n",
       "6996  40.585419      15.842  \n",
       "\n",
       "[5 rows x 40 columns]"
      ]
     },
     "execution_count": 22,
     "metadata": {},
     "output_type": "execute_result"
    }
   ],
   "source": [
    "X_train.head()"
   ]
  },
  {
   "cell_type": "markdown",
   "metadata": {},
   "source": [
    "# Pre-processing\n",
    "\n",
    "Scale the data using the MinMaxScaler"
   ]
  },
  {
   "cell_type": "code",
   "execution_count": 23,
   "metadata": {},
   "outputs": [],
   "source": [
    "from sklearn.preprocessing import MinMaxScaler\n",
    "X_scaler = MinMaxScaler().fit(X_train)\n",
    "\n",
    "X_train_scaled = X_scaler.transform(X_train)\n",
    "X_test_scaled = X_scaler.transform(X_test)"
   ]
  },
  {
   "cell_type": "markdown",
   "metadata": {},
   "source": [
    "# Train the Support Vector Machine"
   ]
  },
  {
   "cell_type": "code",
   "execution_count": 24,
   "metadata": {},
   "outputs": [
    {
     "name": "stdout",
     "output_type": "stream",
     "text": [
      "Training Data Score: 0.8479719426654467\n",
      "Testing Data Score: 0.8462946020128088\n"
     ]
    }
   ],
   "source": [
    "# Create SVC model\n",
    "from sklearn.svm import SVC\n",
    "SVCmodel = SVC(kernel='linear')\n",
    "\n",
    "# Train the model\n",
    "SVCmodel.fit(X_train_scaled, y_train)\n",
    "\n",
    "# Print scores\n",
    "print(f\"Training Data Score: {SVCmodel.score(X_train_scaled, y_train)}\")\n",
    "print(f\"Testing Data Score: {SVCmodel.score(X_test_scaled, y_test)}\")"
   ]
  },
  {
   "cell_type": "code",
   "execution_count": 25,
   "metadata": {},
   "outputs": [
    {
     "name": "stdout",
     "output_type": "stream",
     "text": [
      "Training Data Score: 0.8443122903324184\n",
      "Testing Data Score: 0.8394327538883806\n"
     ]
    }
   ],
   "source": [
    "# Create Logistic Regression model\n",
    "from sklearn.linear_model import LogisticRegression\n",
    "model_log = LogisticRegression()\n",
    "\n",
    "# Train the model\n",
    "model_log.fit(X_train_scaled, y_train)\n",
    "\n",
    "# Print scores\n",
    "print(f\"Training Data Score: {model_log.score(X_train_scaled, y_train)}\")\n",
    "print(f\"Testing Data Score: {model_log.score(X_test_scaled, y_test)}\")"
   ]
  },
  {
   "cell_type": "markdown",
   "metadata": {},
   "source": [
    "# Hyperparameter Tuning\n",
    "\n",
    "Use `GridSearchCV` to tune the `C` and `gamma` parameters"
   ]
  },
  {
   "cell_type": "code",
   "execution_count": 26,
   "metadata": {},
   "outputs": [],
   "source": [
    "# Create the GridSearch estimator and parameters for SVC model\n",
    "from sklearn.model_selection import GridSearchCV\n",
    "svc_param_grid = {'C': [1, 5, 10],\n",
    "              'gamma': [0.0001, 0.001, 0.01],\n",
    "              'kernel': ['linear']}\n",
    "svc_grid = GridSearchCV(SVCmodel, svc_param_grid, verbose=3)"
   ]
  },
  {
   "cell_type": "code",
   "execution_count": 27,
   "metadata": {},
   "outputs": [
    {
     "name": "stdout",
     "output_type": "stream",
     "text": [
      "Fitting 3 folds for each of 9 candidates, totalling 27 fits\n",
      "[CV] C=1, gamma=0.0001, kernel=linear ................................\n"
     ]
    },
    {
     "name": "stderr",
     "output_type": "stream",
     "text": [
      "[Parallel(n_jobs=1)]: Using backend SequentialBackend with 1 concurrent workers.\n"
     ]
    },
    {
     "name": "stdout",
     "output_type": "stream",
     "text": [
      "[CV]  C=1, gamma=0.0001, kernel=linear, score=0.8399634202103338, total=   0.3s\n",
      "[CV] C=1, gamma=0.0001, kernel=linear ................................\n"
     ]
    },
    {
     "name": "stderr",
     "output_type": "stream",
     "text": [
      "[Parallel(n_jobs=1)]: Done   1 out of   1 | elapsed:    0.5s remaining:    0.0s\n"
     ]
    },
    {
     "name": "stdout",
     "output_type": "stream",
     "text": [
      "[CV]  C=1, gamma=0.0001, kernel=linear, score=0.8508691674290942, total=   0.3s\n",
      "[CV] C=1, gamma=0.0001, kernel=linear ................................\n"
     ]
    },
    {
     "name": "stderr",
     "output_type": "stream",
     "text": [
      "[Parallel(n_jobs=1)]: Done   2 out of   2 | elapsed:    1.1s remaining:    0.0s\n"
     ]
    },
    {
     "name": "stdout",
     "output_type": "stream",
     "text": [
      "[CV]  C=1, gamma=0.0001, kernel=linear, score=0.8361556064073227, total=   0.3s\n",
      "[CV] C=1, gamma=0.001, kernel=linear .................................\n",
      "[CV]  C=1, gamma=0.001, kernel=linear, score=0.8399634202103338, total=   0.3s\n",
      "[CV] C=1, gamma=0.001, kernel=linear .................................\n",
      "[CV]  C=1, gamma=0.001, kernel=linear, score=0.8508691674290942, total=   0.3s\n",
      "[CV] C=1, gamma=0.001, kernel=linear .................................\n",
      "[CV]  C=1, gamma=0.001, kernel=linear, score=0.8361556064073227, total=   0.3s\n",
      "[CV] C=1, gamma=0.01, kernel=linear ..................................\n",
      "[CV]  C=1, gamma=0.01, kernel=linear, score=0.8399634202103338, total=   0.3s\n",
      "[CV] C=1, gamma=0.01, kernel=linear ..................................\n",
      "[CV]  C=1, gamma=0.01, kernel=linear, score=0.8508691674290942, total=   0.3s\n",
      "[CV] C=1, gamma=0.01, kernel=linear ..................................\n",
      "[CV]  C=1, gamma=0.01, kernel=linear, score=0.8361556064073227, total=   0.3s\n",
      "[CV] C=5, gamma=0.0001, kernel=linear ................................\n",
      "[CV]  C=5, gamma=0.0001, kernel=linear, score=0.8582533150434385, total=   0.3s\n",
      "[CV] C=5, gamma=0.0001, kernel=linear ................................\n",
      "[CV]  C=5, gamma=0.0001, kernel=linear, score=0.869167429094236, total=   0.2s\n",
      "[CV] C=5, gamma=0.0001, kernel=linear ................................\n",
      "[CV]  C=5, gamma=0.0001, kernel=linear, score=0.8617848970251716, total=   0.2s\n",
      "[CV] C=5, gamma=0.001, kernel=linear .................................\n",
      "[CV]  C=5, gamma=0.001, kernel=linear, score=0.8582533150434385, total=   0.3s\n",
      "[CV] C=5, gamma=0.001, kernel=linear .................................\n",
      "[CV]  C=5, gamma=0.001, kernel=linear, score=0.869167429094236, total=   0.2s\n",
      "[CV] C=5, gamma=0.001, kernel=linear .................................\n",
      "[CV]  C=5, gamma=0.001, kernel=linear, score=0.8617848970251716, total=   0.2s\n",
      "[CV] C=5, gamma=0.01, kernel=linear ..................................\n",
      "[CV]  C=5, gamma=0.01, kernel=linear, score=0.8582533150434385, total=   0.3s\n",
      "[CV] C=5, gamma=0.01, kernel=linear ..................................\n",
      "[CV]  C=5, gamma=0.01, kernel=linear, score=0.869167429094236, total=   0.2s\n",
      "[CV] C=5, gamma=0.01, kernel=linear ..................................\n",
      "[CV]  C=5, gamma=0.01, kernel=linear, score=0.8617848970251716, total=   0.2s\n",
      "[CV] C=10, gamma=0.0001, kernel=linear ...............................\n",
      "[CV]  C=10, gamma=0.0001, kernel=linear, score=0.8651120256058528, total=   0.3s\n",
      "[CV] C=10, gamma=0.0001, kernel=linear ...............................\n",
      "[CV]  C=10, gamma=0.0001, kernel=linear, score=0.8746569075937786, total=   0.3s\n",
      "[CV] C=10, gamma=0.0001, kernel=linear ...............................\n",
      "[CV]  C=10, gamma=0.0001, kernel=linear, score=0.8672768878718535, total=   0.3s\n",
      "[CV] C=10, gamma=0.001, kernel=linear ................................\n",
      "[CV]  C=10, gamma=0.001, kernel=linear, score=0.8651120256058528, total=   0.3s\n",
      "[CV] C=10, gamma=0.001, kernel=linear ................................\n",
      "[CV]  C=10, gamma=0.001, kernel=linear, score=0.8746569075937786, total=   0.2s\n",
      "[CV] C=10, gamma=0.001, kernel=linear ................................\n",
      "[CV]  C=10, gamma=0.001, kernel=linear, score=0.8672768878718535, total=   0.2s\n",
      "[CV] C=10, gamma=0.01, kernel=linear .................................\n",
      "[CV]  C=10, gamma=0.01, kernel=linear, score=0.8651120256058528, total=   0.3s\n",
      "[CV] C=10, gamma=0.01, kernel=linear .................................\n",
      "[CV]  C=10, gamma=0.01, kernel=linear, score=0.8746569075937786, total=   0.2s\n",
      "[CV] C=10, gamma=0.01, kernel=linear .................................\n",
      "[CV]  C=10, gamma=0.01, kernel=linear, score=0.8672768878718535, total=   0.3s\n"
     ]
    },
    {
     "name": "stderr",
     "output_type": "stream",
     "text": [
      "[Parallel(n_jobs=1)]: Done  27 out of  27 | elapsed:   15.8s finished\n"
     ]
    },
    {
     "data": {
      "text/plain": [
       "GridSearchCV(cv='warn', error_score='raise-deprecating',\n",
       "       estimator=SVC(C=1.0, cache_size=200, class_weight=None, coef0=0.0,\n",
       "  decision_function_shape='ovr', degree=3, gamma='auto_deprecated',\n",
       "  kernel='linear', max_iter=-1, probability=False, random_state=None,\n",
       "  shrinking=True, tol=0.001, verbose=False),\n",
       "       fit_params=None, iid='warn', n_jobs=None,\n",
       "       param_grid={'C': [1, 5, 10], 'gamma': [0.0001, 0.001, 0.01], 'kernel': ['linear']},\n",
       "       pre_dispatch='2*n_jobs', refit=True, return_train_score='warn',\n",
       "       scoring=None, verbose=3)"
      ]
     },
     "execution_count": 27,
     "metadata": {},
     "output_type": "execute_result"
    }
   ],
   "source": [
    "# Fit the model using the grid search estimator\n",
    "# This will take the SVC model and try each combination of parameters\n",
    "svc_grid.fit(X_train_scaled, y_train)"
   ]
  },
  {
   "cell_type": "code",
   "execution_count": 28,
   "metadata": {},
   "outputs": [
    {
     "name": "stdout",
     "output_type": "stream",
     "text": [
      "{'C': 10, 'gamma': 0.0001, 'kernel': 'linear'}\n",
      "0.8690149435803599\n"
     ]
    }
   ],
   "source": [
    "# Print best parameters and best scores for SVC model\n",
    "print(svc_grid.best_params_)\n",
    "print(svc_grid.best_score_)"
   ]
  },
  {
   "cell_type": "code",
   "execution_count": 29,
   "metadata": {},
   "outputs": [],
   "source": [
    "# Create the GridSearch estimator and parameters for Logistic Regression model\n",
    "from sklearn.model_selection import GridSearchCV\n",
    "\n",
    "logistic_param_grid = {\"penalty\": ['l1', 'l2'],\n",
    "              \"C\": np.logspace(0, 4, 10)}\n",
    "logistic_grid = GridSearchCV(model_log, logistic_param_grid, cv=5, verbose=3)"
   ]
  },
  {
   "cell_type": "code",
   "execution_count": 30,
   "metadata": {},
   "outputs": [
    {
     "name": "stdout",
     "output_type": "stream",
     "text": [
      "Fitting 5 folds for each of 20 candidates, totalling 100 fits\n",
      "[CV] C=1.0, penalty=l1 ...............................................\n"
     ]
    },
    {
     "name": "stderr",
     "output_type": "stream",
     "text": [
      "[Parallel(n_jobs=1)]: Using backend SequentialBackend with 1 concurrent workers.\n"
     ]
    },
    {
     "name": "stdout",
     "output_type": "stream",
     "text": [
      "[CV] ...... C=1.0, penalty=l1, score=0.8796648895658796, total=   0.7s\n",
      "[CV] C=1.0, penalty=l1 ...............................................\n"
     ]
    },
    {
     "name": "stderr",
     "output_type": "stream",
     "text": [
      "[Parallel(n_jobs=1)]: Done   1 out of   1 | elapsed:    0.7s remaining:    0.0s\n"
     ]
    },
    {
     "name": "stdout",
     "output_type": "stream",
     "text": [
      "[CV] ....... C=1.0, penalty=l1, score=0.881859756097561, total=   3.4s\n",
      "[CV] C=1.0, penalty=l1 ...............................................\n"
     ]
    },
    {
     "name": "stderr",
     "output_type": "stream",
     "text": [
      "[Parallel(n_jobs=1)]: Done   2 out of   2 | elapsed:    4.3s remaining:    0.0s\n"
     ]
    },
    {
     "name": "stdout",
     "output_type": "stream",
     "text": [
      "[CV] ...... C=1.0, penalty=l1, score=0.8887195121951219, total=   1.5s\n",
      "[CV] C=1.0, penalty=l1 ...............................................\n",
      "[CV] ...... C=1.0, penalty=l1, score=0.8924485125858124, total=   2.1s\n",
      "[CV] C=1.0, penalty=l1 ...............................................\n",
      "[CV] ....... C=1.0, penalty=l1, score=0.867175572519084, total=   1.1s\n",
      "[CV] C=1.0, penalty=l2 ...............................................\n",
      "[CV] ....... C=1.0, penalty=l2, score=0.674028941355674, total=   0.6s\n",
      "[CV] C=1.0, penalty=l2 ...............................................\n",
      "[CV] ...... C=1.0, penalty=l2, score=0.6829268292682927, total=   0.6s\n",
      "[CV] C=1.0, penalty=l2 ...............................................\n",
      "[CV] ...... C=1.0, penalty=l2, score=0.6509146341463414, total=   0.5s\n",
      "[CV] C=1.0, penalty=l2 ...............................................\n",
      "[CV] ...... C=1.0, penalty=l2, score=0.6422578184591915, total=   0.5s\n",
      "[CV] C=1.0, penalty=l2 ...............................................\n",
      "[CV] ....... C=1.0, penalty=l2, score=0.666412213740458, total=   0.7s\n",
      "[CV] C=2.7825594022071245, penalty=l1 ................................\n",
      "[CV]  C=2.7825594022071245, penalty=l1, score=0.8796648895658796, total=   0.9s\n",
      "[CV] C=2.7825594022071245, penalty=l1 ................................\n",
      "[CV]  C=2.7825594022071245, penalty=l1, score=0.8833841463414634, total=   2.9s\n",
      "[CV] C=2.7825594022071245, penalty=l1 ................................\n",
      "[CV]  C=2.7825594022071245, penalty=l1, score=0.8887195121951219, total=   1.6s\n",
      "[CV] C=2.7825594022071245, penalty=l1 ................................\n",
      "[CV]  C=2.7825594022071245, penalty=l1, score=0.8924485125858124, total=   2.5s\n",
      "[CV] C=2.7825594022071245, penalty=l1 ................................\n",
      "[CV]  C=2.7825594022071245, penalty=l1, score=0.8694656488549618, total=   1.3s\n",
      "[CV] C=2.7825594022071245, penalty=l2 ................................\n",
      "[CV]  C=2.7825594022071245, penalty=l2, score=0.6884996191926885, total=   0.6s\n",
      "[CV] C=2.7825594022071245, penalty=l2 ................................\n",
      "[CV]  C=2.7825594022071245, penalty=l2, score=0.6417682926829268, total=   0.5s\n",
      "[CV] C=2.7825594022071245, penalty=l2 ................................\n",
      "[CV]  C=2.7825594022071245, penalty=l2, score=0.6547256097560976, total=   0.6s\n",
      "[CV] C=2.7825594022071245, penalty=l2 ................................\n",
      "[CV]  C=2.7825594022071245, penalty=l2, score=0.6651411136536994, total=   0.6s\n",
      "[CV] C=2.7825594022071245, penalty=l2 ................................\n",
      "[CV]  C=2.7825594022071245, penalty=l2, score=0.6511450381679389, total=   0.6s\n",
      "[CV] C=7.742636826811269, penalty=l1 .................................\n",
      "[CV]  C=7.742636826811269, penalty=l1, score=0.8819497334348819, total=   0.5s\n",
      "[CV] C=7.742636826811269, penalty=l1 .................................\n",
      "[CV]  C=7.742636826811269, penalty=l1, score=0.8810975609756098, total=   2.1s\n",
      "[CV] C=7.742636826811269, penalty=l1 .................................\n",
      "[CV]  C=7.742636826811269, penalty=l1, score=0.8902439024390244, total=   2.4s\n",
      "[CV] C=7.742636826811269, penalty=l1 .................................\n",
      "[CV]  C=7.742636826811269, penalty=l1, score=0.8939740655987796, total=   2.8s\n",
      "[CV] C=7.742636826811269, penalty=l1 .................................\n",
      "[CV]  C=7.742636826811269, penalty=l1, score=0.8709923664122138, total=   1.4s\n",
      "[CV] C=7.742636826811269, penalty=l2 .................................\n",
      "[CV]  C=7.742636826811269, penalty=l2, score=0.6763137852246763, total=   0.7s\n",
      "[CV] C=7.742636826811269, penalty=l2 .................................\n",
      "[CV]  C=7.742636826811269, penalty=l2, score=0.6791158536585366, total=   0.7s\n",
      "[CV] C=7.742636826811269, penalty=l2 .................................\n",
      "[CV]  C=7.742636826811269, penalty=l2, score=0.6547256097560976, total=   0.7s\n",
      "[CV] C=7.742636826811269, penalty=l2 .................................\n",
      "[CV]  C=7.742636826811269, penalty=l2, score=0.6666666666666666, total=   0.6s\n",
      "[CV] C=7.742636826811269, penalty=l2 .................................\n",
      "[CV]  C=7.742636826811269, penalty=l2, score=0.6305343511450382, total=   0.6s\n",
      "[CV] C=21.544346900318832, penalty=l1 ................................\n",
      "[CV]  C=21.544346900318832, penalty=l1, score=0.8819497334348819, total=   0.4s\n",
      "[CV] C=21.544346900318832, penalty=l1 ................................\n",
      "[CV]  C=21.544346900318832, penalty=l1, score=0.8795731707317073, total=   2.9s\n",
      "[CV] C=21.544346900318832, penalty=l1 ................................\n",
      "[CV]  C=21.544346900318832, penalty=l1, score=0.8932926829268293, total=   3.6s\n",
      "[CV] C=21.544346900318832, penalty=l1 ................................\n",
      "[CV]  C=21.544346900318832, penalty=l1, score=0.8947368421052632, total=   2.5s\n",
      "[CV] C=21.544346900318832, penalty=l1 ................................\n",
      "[CV]  C=21.544346900318832, penalty=l1, score=0.8717557251908397, total=   1.6s\n",
      "[CV] C=21.544346900318832, penalty=l2 ................................\n",
      "[CV]  C=21.544346900318832, penalty=l2, score=0.6725057121096725, total=   0.6s\n",
      "[CV] C=21.544346900318832, penalty=l2 ................................\n",
      "[CV]  C=21.544346900318832, penalty=l2, score=0.6737804878048781, total=   0.6s\n",
      "[CV] C=21.544346900318832, penalty=l2 ................................\n",
      "[CV]  C=21.544346900318832, penalty=l2, score=0.6463414634146342, total=   0.5s\n",
      "[CV] C=21.544346900318832, penalty=l2 ................................\n",
      "[CV]  C=21.544346900318832, penalty=l2, score=0.6598016781083142, total=   0.5s\n",
      "[CV] C=21.544346900318832, penalty=l2 ................................\n",
      "[CV]  C=21.544346900318832, penalty=l2, score=0.6389312977099236, total=   0.6s\n",
      "[CV] C=59.94842503189409, penalty=l1 .................................\n",
      "[CV]  C=59.94842503189409, penalty=l1, score=0.8796648895658796, total=   0.9s\n",
      "[CV] C=59.94842503189409, penalty=l1 .................................\n",
      "[CV]  C=59.94842503189409, penalty=l1, score=0.8810975609756098, total=   2.4s\n",
      "[CV] C=59.94842503189409, penalty=l1 .................................\n",
      "[CV]  C=59.94842503189409, penalty=l1, score=0.8910060975609756, total=   2.5s\n",
      "[CV] C=59.94842503189409, penalty=l1 .................................\n",
      "[CV]  C=59.94842503189409, penalty=l1, score=0.8954996186117468, total=  13.5s\n",
      "[CV] C=59.94842503189409, penalty=l1 .................................\n",
      "[CV]  C=59.94842503189409, penalty=l1, score=0.8725190839694656, total=  18.9s\n",
      "[CV] C=59.94842503189409, penalty=l2 .................................\n",
      "[CV]  C=59.94842503189409, penalty=l2, score=0.670982482863671, total=   0.5s\n",
      "[CV] C=59.94842503189409, penalty=l2 .................................\n",
      "[CV]  C=59.94842503189409, penalty=l2, score=0.6592987804878049, total=   0.7s\n",
      "[CV] C=59.94842503189409, penalty=l2 .................................\n",
      "[CV]  C=59.94842503189409, penalty=l2, score=0.6737804878048781, total=   0.6s\n",
      "[CV] C=59.94842503189409, penalty=l2 .................................\n",
      "[CV]  C=59.94842503189409, penalty=l2, score=0.6552250190694127, total=   0.7s\n",
      "[CV] C=59.94842503189409, penalty=l2 .................................\n",
      "[CV]  C=59.94842503189409, penalty=l2, score=0.6618320610687023, total=   0.7s\n",
      "[CV] C=166.81005372000593, penalty=l1 ................................\n",
      "[CV]  C=166.81005372000593, penalty=l1, score=0.8804265041888805, total=   0.6s\n",
      "[CV] C=166.81005372000593, penalty=l1 ................................\n",
      "[CV]  C=166.81005372000593, penalty=l1, score=0.8810975609756098, total=   2.5s\n",
      "[CV] C=166.81005372000593, penalty=l1 ................................\n",
      "[CV]  C=166.81005372000593, penalty=l1, score=0.8910060975609756, total=   2.7s\n",
      "[CV] C=166.81005372000593, penalty=l1 ................................\n",
      "[CV]  C=166.81005372000593, penalty=l1, score=0.8954996186117468, total=  15.1s\n",
      "[CV] C=166.81005372000593, penalty=l1 ................................\n",
      "[CV]  C=166.81005372000593, penalty=l1, score=0.8725190839694656, total=  18.6s\n",
      "[CV] C=166.81005372000593, penalty=l2 ................................\n",
      "[CV]  C=166.81005372000593, penalty=l2, score=0.6770753998476771, total=   0.7s\n",
      "[CV] C=166.81005372000593, penalty=l2 ................................\n",
      "[CV]  C=166.81005372000593, penalty=l2, score=0.6432926829268293, total=   0.8s\n",
      "[CV] C=166.81005372000593, penalty=l2 ................................\n"
     ]
    },
    {
     "name": "stdout",
     "output_type": "stream",
     "text": [
      "[CV]  C=166.81005372000593, penalty=l2, score=0.6676829268292683, total=   0.6s\n",
      "[CV] C=166.81005372000593, penalty=l2 ................................\n",
      "[CV]  C=166.81005372000593, penalty=l2, score=0.6575133485888635, total=   0.7s\n",
      "[CV] C=166.81005372000593, penalty=l2 ................................\n",
      "[CV]  C=166.81005372000593, penalty=l2, score=0.6534351145038167, total=   0.7s\n",
      "[CV] C=464.15888336127773, penalty=l1 ................................\n",
      "[CV]  C=464.15888336127773, penalty=l1, score=0.8804265041888805, total=   1.4s\n",
      "[CV] C=464.15888336127773, penalty=l1 ................................\n",
      "[CV]  C=464.15888336127773, penalty=l1, score=0.8833841463414634, total=   2.4s\n",
      "[CV] C=464.15888336127773, penalty=l1 ................................\n",
      "[CV]  C=464.15888336127773, penalty=l1, score=0.8910060975609756, total=   2.9s\n",
      "[CV] C=464.15888336127773, penalty=l1 ................................\n",
      "[CV]  C=464.15888336127773, penalty=l1, score=0.8954996186117468, total=  14.8s\n",
      "[CV] C=464.15888336127773, penalty=l1 ................................\n",
      "[CV]  C=464.15888336127773, penalty=l1, score=0.8732824427480916, total=  19.1s\n",
      "[CV] C=464.15888336127773, penalty=l2 ................................\n",
      "[CV]  C=464.15888336127773, penalty=l2, score=0.6831683168316832, total=   0.7s\n",
      "[CV] C=464.15888336127773, penalty=l2 ................................\n",
      "[CV] .. C=464.15888336127773, penalty=l2, score=0.65625, total=   0.6s\n",
      "[CV] C=464.15888336127773, penalty=l2 ................................\n",
      "[CV]  C=464.15888336127773, penalty=l2, score=0.6570121951219512, total=   0.6s\n",
      "[CV] C=464.15888336127773, penalty=l2 ................................\n",
      "[CV]  C=464.15888336127773, penalty=l2, score=0.6636155606407322, total=   0.6s\n",
      "[CV] C=464.15888336127773, penalty=l2 ................................\n",
      "[CV]  C=464.15888336127773, penalty=l2, score=0.6312977099236641, total=   0.5s\n",
      "[CV] C=1291.5496650148827, penalty=l1 ................................\n",
      "[CV]  C=1291.5496650148827, penalty=l1, score=0.8811881188118812, total=   0.9s\n",
      "[CV] C=1291.5496650148827, penalty=l1 ................................\n",
      "[CV]  C=1291.5496650148827, penalty=l1, score=0.8826219512195121, total=   2.5s\n",
      "[CV] C=1291.5496650148827, penalty=l1 ................................\n",
      "[CV]  C=1291.5496650148827, penalty=l1, score=0.8932926829268293, total=   3.4s\n",
      "[CV] C=1291.5496650148827, penalty=l1 ................................\n",
      "[CV]  C=1291.5496650148827, penalty=l1, score=0.8947368421052632, total=  13.5s\n",
      "[CV] C=1291.5496650148827, penalty=l1 ................................\n",
      "[CV]  C=1291.5496650148827, penalty=l1, score=0.8732824427480916, total=  18.5s\n",
      "[CV] C=1291.5496650148827, penalty=l2 ................................\n",
      "[CV]  C=1291.5496650148827, penalty=l2, score=0.6808834729626809, total=   0.6s\n",
      "[CV] C=1291.5496650148827, penalty=l2 ................................\n",
      "[CV]  C=1291.5496650148827, penalty=l2, score=0.6730182926829268, total=   0.6s\n",
      "[CV] C=1291.5496650148827, penalty=l2 ................................\n",
      "[CV]  C=1291.5496650148827, penalty=l2, score=0.6600609756097561, total=   0.6s\n",
      "[CV] C=1291.5496650148827, penalty=l2 ................................\n",
      "[CV]  C=1291.5496650148827, penalty=l2, score=0.6796338672768879, total=   0.6s\n",
      "[CV] C=1291.5496650148827, penalty=l2 ................................\n",
      "[CV]  C=1291.5496650148827, penalty=l2, score=0.649618320610687, total=   0.5s\n",
      "[CV] C=3593.813663804626, penalty=l1 .................................\n",
      "[CV]  C=3593.813663804626, penalty=l1, score=0.8804265041888805, total=   0.6s\n",
      "[CV] C=3593.813663804626, penalty=l1 .................................\n",
      "[CV]  C=3593.813663804626, penalty=l1, score=0.8826219512195121, total=   2.3s\n",
      "[CV] C=3593.813663804626, penalty=l1 .................................\n",
      "[CV]  C=3593.813663804626, penalty=l1, score=0.8910060975609756, total=   2.6s\n",
      "[CV] C=3593.813663804626, penalty=l1 .................................\n",
      "[CV]  C=3593.813663804626, penalty=l1, score=0.8947368421052632, total=  16.8s\n",
      "[CV] C=3593.813663804626, penalty=l1 .................................\n",
      "[CV]  C=3593.813663804626, penalty=l1, score=0.8732824427480916, total=  19.6s\n",
      "[CV] C=3593.813663804626, penalty=l2 .................................\n",
      "[CV]  C=3593.813663804626, penalty=l2, score=0.6816450875856817, total=   0.5s\n",
      "[CV] C=3593.813663804626, penalty=l2 .................................\n",
      "[CV]  C=3593.813663804626, penalty=l2, score=0.6692073170731707, total=   0.6s\n",
      "[CV] C=3593.813663804626, penalty=l2 .................................\n",
      "[CV]  C=3593.813663804626, penalty=l2, score=0.6516768292682927, total=   0.6s\n",
      "[CV] C=3593.813663804626, penalty=l2 .................................\n",
      "[CV]  C=3593.813663804626, penalty=l2, score=0.635392829900839, total=   0.6s\n",
      "[CV] C=3593.813663804626, penalty=l2 .................................\n",
      "[CV]  C=3593.813663804626, penalty=l2, score=0.6572519083969466, total=   0.7s\n",
      "[CV] C=10000.0, penalty=l1 ...........................................\n",
      "[CV] .. C=10000.0, penalty=l1, score=0.8819497334348819, total=   0.6s\n",
      "[CV] C=10000.0, penalty=l1 ...........................................\n",
      "[CV] .. C=10000.0, penalty=l1, score=0.8826219512195121, total=   2.8s\n",
      "[CV] C=10000.0, penalty=l1 ...........................................\n",
      "[CV] .. C=10000.0, penalty=l1, score=0.8910060975609756, total=   2.5s\n",
      "[CV] C=10000.0, penalty=l1 ...........................................\n",
      "[CV] .. C=10000.0, penalty=l1, score=0.8954996186117468, total=  17.3s\n",
      "[CV] C=10000.0, penalty=l1 ...........................................\n",
      "[CV] .. C=10000.0, penalty=l1, score=0.8732824427480916, total=  18.3s\n",
      "[CV] C=10000.0, penalty=l2 ...........................................\n",
      "[CV] .. C=10000.0, penalty=l2, score=0.6801218583396801, total=   0.5s\n",
      "[CV] C=10000.0, penalty=l2 ...........................................\n",
      "[CV] .. C=10000.0, penalty=l2, score=0.6821646341463414, total=   0.6s\n",
      "[CV] C=10000.0, penalty=l2 ...........................................\n",
      "[CV] .. C=10000.0, penalty=l2, score=0.6463414634146342, total=   0.6s\n",
      "[CV] C=10000.0, penalty=l2 ...........................................\n",
      "[CV] .. C=10000.0, penalty=l2, score=0.6598016781083142, total=   0.6s\n",
      "[CV] C=10000.0, penalty=l2 ...........................................\n",
      "[CV] .. C=10000.0, penalty=l2, score=0.6183206106870229, total=   0.5s\n"
     ]
    },
    {
     "name": "stderr",
     "output_type": "stream",
     "text": [
      "[Parallel(n_jobs=1)]: Done 100 out of 100 | elapsed:  5.3min finished\n"
     ]
    },
    {
     "data": {
      "text/plain": [
       "GridSearchCV(cv=5, error_score='raise-deprecating',\n",
       "       estimator=LogisticRegression(C=1.0, class_weight=None, dual=False, fit_intercept=True,\n",
       "          intercept_scaling=1, max_iter=100, multi_class='warn',\n",
       "          n_jobs=None, penalty='l2', random_state=None, solver='warn',\n",
       "          tol=0.0001, verbose=0, warm_start=False),\n",
       "       fit_params=None, iid='warn', n_jobs=None,\n",
       "       param_grid={'penalty': ['l1', 'l2'], 'C': array([1.00000e+00, 2.78256e+00, 7.74264e+00, 2.15443e+01, 5.99484e+01,\n",
       "       1.66810e+02, 4.64159e+02, 1.29155e+03, 3.59381e+03, 1.00000e+04])},\n",
       "       pre_dispatch='2*n_jobs', refit=True, return_train_score='warn',\n",
       "       scoring=None, verbose=3)"
      ]
     },
     "execution_count": 30,
     "metadata": {},
     "output_type": "execute_result"
    }
   ],
   "source": [
    "# Fit the model using the grid search estimator\n",
    "# This will take the Logistic Regression model and try each combination of parameters\n",
    "logistic_grid.fit(X_train, y_train)"
   ]
  },
  {
   "cell_type": "code",
   "execution_count": 31,
   "metadata": {},
   "outputs": [
    {
     "name": "stdout",
     "output_type": "stream",
     "text": [
      "{'C': 1291.5496650148827, 'penalty': 'l1'}\n",
      "0.8850259225373589\n"
     ]
    }
   ],
   "source": [
    "# Print best paramaters and best scores for Logistic Regression model\n",
    "print(logistic_grid.best_params_)\n",
    "print(logistic_grid.best_score_)"
   ]
  },
  {
   "cell_type": "code",
   "execution_count": 32,
   "metadata": {},
   "outputs": [
    {
     "name": "stdout",
     "output_type": "stream",
     "text": [
      "SVC model\n",
      "{'C': 10, 'gamma': 0.0001, 'kernel': 'linear'}\n",
      "0.8690149435803599\n",
      "----------------\n",
      "Logistic Regression model\n",
      "{'C': 1291.5496650148827, 'penalty': 'l1'}\n",
      "0.8850259225373589\n"
     ]
    }
   ],
   "source": [
    "# Compare SVC model and Logistic Regression model scores\n",
    "\n",
    "print(\"SVC model\")\n",
    "print(svc_grid.best_params_)\n",
    "print(svc_grid.best_score_)\n",
    "print(\"----------------\")\n",
    "print(\"Logistic Regression model\")\n",
    "print(logistic_grid.best_params_)\n",
    "print(logistic_grid.best_score_)"
   ]
  }
 ],
 "metadata": {
  "kernel_info": {
   "name": "dev"
  },
  "kernelspec": {
   "display_name": "Python 3",
   "language": "python",
   "name": "python3"
  },
  "language_info": {
   "codemirror_mode": {
    "name": "ipython",
    "version": 3
   },
   "file_extension": ".py",
   "mimetype": "text/x-python",
   "name": "python",
   "nbconvert_exporter": "python",
   "pygments_lexer": "ipython3",
   "version": "3.7.1"
  },
  "nteract": {
   "version": "0.12.3"
  }
 },
 "nbformat": 4,
 "nbformat_minor": 2
}
